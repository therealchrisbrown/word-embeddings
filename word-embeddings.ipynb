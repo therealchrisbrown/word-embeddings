{
 "cells": [
  {
   "cell_type": "code",
   "execution_count": 1,
   "metadata": {},
   "outputs": [],
   "source": [
    "import openai\n",
    "import pandas as pd\n",
    "import numpy as np\n",
    "import os\n",
    "\n",
    "import constants\n",
    "\n",
    "openai.api_key = constants.OPENAI_API_KEY"
   ]
  },
  {
   "cell_type": "code",
   "execution_count": 2,
   "metadata": {},
   "outputs": [
    {
     "name": "stdout",
     "output_type": "stream",
     "text": [
      "            text\n",
      "0            red\n",
      "1       potatoes\n",
      "2           soda\n",
      "3         cheese\n",
      "4          water\n",
      "5           blue\n",
      "6         crispy\n",
      "7      hamburger\n",
      "8         coffee\n",
      "9          green\n",
      "10          milk\n",
      "11      la croix\n",
      "12        yellow\n",
      "13     chocolate\n",
      "14  french fries\n",
      "15         latte\n",
      "16          cake\n",
      "17         brown\n",
      "18  cheeseburger\n",
      "19      espresso\n",
      "20    cheesecake\n",
      "21         black\n",
      "22         mocha\n",
      "23         fizzy\n",
      "24        carbon\n",
      "25        banana\n"
     ]
    }
   ],
   "source": [
    "df = pd.read_csv('words.csv')\n",
    "print(df)"
   ]
  },
  {
   "cell_type": "code",
   "execution_count": 3,
   "metadata": {},
   "outputs": [],
   "source": [
    "from openai.embeddings_utils import get_embedding\n",
    "\n",
    "df['embedding'] = df['text'].apply(lambda x: get_embedding(x , engine='text-embedding-ada-002'))\n",
    "df.to_csv('word_embeddings.csv')"
   ]
  },
  {
   "cell_type": "code",
   "execution_count": null,
   "metadata": {},
   "outputs": [],
   "source": [
    "get_embedding(\"this is a test\", engine='text-embedding-ada-002')"
   ]
  }
 ],
 "metadata": {
  "kernelspec": {
   "display_name": "word-embeddings",
   "language": "python",
   "name": "python3"
  },
  "language_info": {
   "codemirror_mode": {
    "name": "ipython",
    "version": 3
   },
   "file_extension": ".py",
   "mimetype": "text/x-python",
   "name": "python",
   "nbconvert_exporter": "python",
   "pygments_lexer": "ipython3",
   "version": "3.11.3"
  },
  "orig_nbformat": 4
 },
 "nbformat": 4,
 "nbformat_minor": 2
}
